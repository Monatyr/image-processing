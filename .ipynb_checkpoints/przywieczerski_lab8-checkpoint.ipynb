{
 "cells": [
  {
   "cell_type": "markdown",
   "metadata": {
    "id": "U26euizD4iwF"
   },
   "source": [
    "# Przekształcenia morfologiczne\n",
    "\n",
    "## Cel:\n",
    "- zapoznanie z podstawowymi przekształceniami morfologicznymi – erozją, dylatacją, otwarciem, zamknięciem, transformacją trafi, nie trafi,\n",
    "- zapoznanie ze złożonymi operacjami morfologicznymi wykorzystującymi rekonstrukcję morfologiczną,\n",
    "- zapoznanie z operacjami morfologicznym dla obrazów w odcieniach szarości – erozją, dylatacją, otwarciem, zamknięciem, filtrami top-hat i bottom-hat,\n",
    "- zapoznanie z wykorzystaniem złożonych operacji morfologicznych przy rozwiązywaniu konkretnego problemu,\n",
    "- zadanie domowe: wykorzystanie morfologii do implementacji ,,gry w życie''."
   ]
  },
  {
   "cell_type": "markdown",
   "metadata": {
    "id": "UsmyHrhc4iwL"
   },
   "source": [
    "## Przypomnienie teorii\n",
    "\n",
    "### Element strukturalny\n",
    "\n",
    "Element strukturalny obrazu jest to pewien wycinek obrazu (przy dyskretnej reprezentacji obrazu – pewien podzbiór jego elementów).\n",
    "Najczęściej stosowanym elementem strukturalnym jest kwadratowa maska o rozmiarze 3×3 lub 5×5. Niekiedy pożądane są maski o innym kształcie, np. zbliżonym do elipsy.\n",
    "\n",
    "### Erozja\n",
    "\n",
    "Erozja (ang. _erosion_) jest podstawowym przekształceniem morfologicznym.\n",
    "Zakładamy, że obraz wyjściowy zawiera pewien obszar (figurę) X, wyróżniający się pewną charakterystyczną cechą (np. odróżniającą się od tła jasnością).\n",
    "Figura X po wykonaniu operacji erozji to zbiór punktów centralnych wszystkich elementów strukturalnych, które w całości mieszczą się we wnętrzu obszaru X.\n",
    "Miarą stopnia erozji jest wielkość elementu strukturalnego.\n",
    "\n",
    "**Erozję** można traktować jako **filtr minimalny**, tj. z danego otoczenia piksela (określanego przez maskę) do obrazu wynikowego wybierana jest wartość minimalna.\n",
    "\n",
    "### Dylatacja\n",
    "\n",
    "Dylatacja (ang. _dilation_): Zakładamy, że obraz wejściowy zawiera obszar X wyróżniający się pewną charakterystyczną cechą (np. jasnością). Figura przekształcona przez dylatacje to zbiór punktów centralnych wszystkich elementów strukturalnych, których którykolwiek punkt mieści sie we wnętrzu obszaru X. Miarą  dylatacji jest wielkość elementu strukturalnego.\n",
    "\n",
    "**Dylatację** można traktować jako **filtr maksymalny**, tj. z danego otoczenia piksela (określanego\n",
    "przez maskę) do obrazu wynikowego wybierana jest wartość maksymalna.\n",
    "\n",
    "### Otwarcie i zamknięcie\n",
    "\n",
    "Otwarcie (ang. _opening_) polega na wykonaniu najpierw operacji erozji, a następnie dylatacji.\n",
    "\n",
    "> Otwarcie = erozja + dylatacja\n",
    "\n",
    "Zamkniecie (ang. _closing_) polega na wykonaniu najpierw operacji dylatacji, a następnie erozji.\n",
    "\n",
    "> Zamkniecie = dylatacja + erozja\n",
    "\n",
    "### Obrazy w odcieniu szarości\n",
    "\n",
    "Obrazy w odcieniu szarości – detekcja dolin i szczytów (ang. _top-hat_, _bottom-hat_):\n",
    "\n",
    "Aby wyodrębnić z obrazu lokalne ekstrema można wykorzystać zdefiniowane wcześniej przekształcenia: otwarcie i zamkniecie.\n",
    "W celu wyszukania lokalnych maksimów (szczytów) należy od wyniku otwarcia danego obrazu odjąć obraz wyjściowy.\n",
    "Analogicznie, aby wyodrębnić lokalne minima obrazu, należy dokonać podobnej operacji, z tym że pierwszą operacją bedzie zamknięcie.\n",
    "Uwaga! Należy zwrócić uwagę, że poniższe metody służą do detekcji (pokreślenia) tylko lokalnych ekstremów!"
   ]
  },
  {
   "cell_type": "markdown",
   "metadata": {
    "id": "QNd1ywyj4iwN"
   },
   "source": [
    "## Podstawowe operacje morfologiczne: erozja, dylatacja, otwarcie, zamknięcie, trafi nie trafi\n",
    "\n",
    "1. Wczytaj obraz *ertka.bmp*\n",
    "2. Wykonaj operację erozji `cv2.erode`. Parametrami funkcji są obraz oraz element strukturalny. Element można stworzyć samodzielnie jako tablicę składającą się z 0 i 1 `np.ones((3,3))` lub posłużyć się funkcją `cv2.getStructuringElement`, do której należy podać kształt `cv2.MORPH_RECT` oraz wielkość elementu `(3,3)`. Na początku użyj kwadratu o rozmiarze 3 pikseli.\n",
    "3. Wyświetl obraz oryginalny oraz po wykonaniu erozji – najlepiej na wspólnym wykresie. Upewnij się, że rozumiesz, jak działa erozja.\n",
    "4. Zmień element strukturalny (inny kształt – koło, diament lub inny rozmiar). Ponownie wykonaj erozję, sprawdź rezultat działania operacji.\n",
    "5. Oprócz zmiany elementu strukturalnego na rezultat erozji można wpłynąć zwiększając liczbę iteracji (np. wykonać erozję trzykrotnie). Ustal element strukturalny na kwadrat o boku 3 piksele. Wykonaj erozję obrazu _ertka_ dwukrotnie, a następnie trzykrotnie. Zaobserwuj rezultaty. Wskazówka: warto zajrzeć do dokumentacji funkcji `erode`.\n",
    "6. Wczytaj obraz *buzka.bmp*. Dobierz element strukturalny (zdefiniuj go ręcznie jako macierz 0 i 1) w taki sposób, aby usunąć włosy o określonej orientacji (ukośnie lewo lub prawo).\n",
    "7. Uwaga: pokazane metody wpływania na rezultaty erozji wykorzystuje się identycznie dla pozostałych operacji morfologicznych – dylatacji, otwarcia i zamknięcia.\n",
    "8. Operacją odwrotną (w pewnym sensie) do erozji jest dylatacja `cv2.dilate`. Ustal element strukturalny na kwadrat o boku 3 piksele. Wykonaj dylatację obrazu _ertka_. Zapoznaj się z rezultatem działania.\n",
    "9. Na wspólnym wykresie wyświetl obraz oryginalny oraz obrazy po operacjach morfologicznych: erozja, dylatacja, otwarcie i zamkniecie. Otwarcie i zamknięcie można uzyskać za pomocą `cv2.morphologyEx(img, operacja, element_strukturalny)`, gdzie typem operacji jest `cv2.MORPH_OPEN` lub `cv2.MORPH_CLOSE`.\n",
    "10. Zmień obraz _ertka_ na _wyspa_, a następnie na _kolka_. Wykonaj na każdym cztery przedstawione operacje morfologiczne. Zaobserwuj rezultaty.\n",
    "11. Minizadanko: wykorzystując poznane operacje morfologiczne spowoduj, że na obrazie _ertka_ pozostanie tylko napis RT (bez wypustek i dziur).\n",
    "12. Niekiedy potrzebne jest wykrycie konkretnych konfiguracji pikseli na obrazie – przydaje się do tego transformacja trafi, nie trafi (ang. _hit-or-miss_). Pozwala ona wykryć na obrazie obecność elementów, które dokładnie odpowiadają masce.\n",
    "13. Wczytaj obraz *hom.bmp*. Wyświetl go. Załóżmy, że chcemy wykryć na obrazie krzyżyki 3x3. Zdefiniuj następujący element strukturalny:\n",
    "```\n",
    "[0,1,0]\n",
    "[1,1,1]\n",
    "[0,1,0]\n",
    "```\n",
    "Wykonaj transformację trafi, nie trafi – `cv2.morphologyEx(hom, cv2.MORPH_HITMISS, se1)`. Rezultat operacji wyświetl. Czy udało się zrealizować zadanie? Jeżeli pojawiają się u Państwa błędy związane z typem danych, należy obraz wejściowy przekonwertować na skalę szarości: `cv2.cvtColor(hom, cv2.COLOR_BGR2GRAY)`.\n"
   ]
  },
  {
   "cell_type": "code",
   "execution_count": null,
   "metadata": {
    "colab": {
     "base_uri": "https://localhost:8080/"
    },
    "executionInfo": {
     "elapsed": 3696,
     "status": "ok",
     "timestamp": 1646681821153,
     "user": {
      "displayName": "Dominika Przewłocka",
      "photoUrl": "https://lh3.googleusercontent.com/a/default-user=s64",
      "userId": "07532713504417998423"
     },
     "user_tz": -60
    },
    "id": "OAYRAz7_4iwO",
    "outputId": "53341010-c25c-4c29-b3b7-c83bffdec62b"
   },
   "outputs": [],
   "source": [
    "import matplotlib.pyplot as plt\n",
    "import cv2\n",
    "import numpy as np\n",
    "import os\n",
    "import requests\n",
    "\n",
    "def get_file(url_path, filename):\n",
    "    if not os.path.exists(filename):\n",
    "        url = url_path\n",
    "        r = requests.get(url, allow_redirects=True)\n",
    "        open(filename, 'wb').write(r.content)\n",
    "\n",
    "get_file('https://raw.githubusercontent.com/vision-agh/poc_sw/master/10_Morphology/buzka.bmp', 'buzka.bmp')\n",
    "get_file('https://raw.githubusercontent.com/vision-agh/poc_sw/master/10_Morphology/calculator.bmp', 'calculator.bmp')\n",
    "get_file('https://raw.githubusercontent.com/vision-agh/poc_sw/master/10_Morphology/ertka.bmp', 'ertka.bmp')\n",
    "get_file('https://raw.githubusercontent.com/vision-agh/poc_sw/master/10_Morphology/ferrari.bmp', 'ferrari.bmp')\n",
    "get_file('https://raw.githubusercontent.com/vision-agh/poc_sw/master/10_Morphology/fingerprint.bmp', 'fingerprint.bmp')\n",
    "get_file('https://raw.githubusercontent.com/vision-agh/poc_sw/master/10_Morphology/hom.bmp', 'hom.bmp')\n",
    "get_file('https://raw.githubusercontent.com/vision-agh/poc_sw/master/10_Morphology/kolka.bmp', 'kolka.bmp')\n",
    "get_file('https://raw.githubusercontent.com/vision-agh/poc_sw/master/10_Morphology/kosc.bmp', 'kosc.bmp')\n",
    "get_file('https://raw.githubusercontent.com/vision-agh/poc_sw/master/10_Morphology/szkielet.bmp', 'szkielet.bmp')\n",
    "get_file('https://raw.githubusercontent.com/vision-agh/poc_sw/master/10_Morphology/text.bmp', 'text.bmp')\n",
    "get_file('https://raw.githubusercontent.com/vision-agh/poc_sw/master/10_Morphology/wyspa.bmp', 'wyspa.bmp')\n",
    "get_file('https://raw.githubusercontent.com/vision-agh/poc_sw/master/10_Morphology/rice.png', 'rice.png')"
   ]
  },
  {
   "cell_type": "code",
   "execution_count": null,
   "metadata": {},
   "outputs": [],
   "source": [
    "#1\n",
    "ertka = cv2.imread('ertka.bmp', cv2.IMREAD_GRAYSCALE)\n",
    "\n",
    "#2\n",
    "struct_el_1 = np.ones((3,3))\n",
    "eroded_ertka_1 = cv2.erode(ertka, struct_el_1, iterations=1)\n",
    "\n",
    "#3\n",
    "fig, ax = plt.subplots(1, 2)\n",
    "fig.set_size_inches(12,10)\n",
    "ax[0].imshow(ertka,'gray')\n",
    "ax[0].set_title(\"Original image\")\n",
    "ax[0].axis('off')\n",
    "ax[1].imshow(eroded_ertka_1,'gray')\n",
    "ax[1].set_title(\"Eroded image\")\n",
    "ax[1].axis('off')\n",
    "\n",
    "plt.show()"
   ]
  },
  {
   "cell_type": "code",
   "execution_count": null,
   "metadata": {},
   "outputs": [],
   "source": [
    "#4 Diament\n",
    "struct_el_2 = np.array([[0,1,0],[1,0,1],[0,1,0]]).astype('uint8')\n",
    "eroded_ertka_2 = cv2.erode(ertka, struct_el_2, iterations=2)\n",
    "fig, ax = plt.subplots(1, 2)\n",
    "fig.set_size_inches(12,10)\n",
    "ax[0].imshow(ertka,'gray')\n",
    "ax[0].set_title(\"Original image\")\n",
    "ax[0].axis('off')\n",
    "ax[1].imshow(eroded_ertka_2,'gray')\n",
    "ax[1].set_title(\"Eroded image\")\n",
    "ax[1].axis('off')\n",
    "\n",
    "plt.show()"
   ]
  },
  {
   "cell_type": "code",
   "execution_count": null,
   "metadata": {},
   "outputs": [],
   "source": [
    "#5\n",
    "fig, ax = plt.subplots(1, 3)\n",
    "fig.set_size_inches(15, 10)\n",
    "ax[0].imshow(ertka,'gray')\n",
    "ax[0].set_title(\"Original image\")\n",
    "ax[0].axis('off')\n",
    "ax[1].imshow(cv2.erode(ertka, np.ones((3,3)), iterations=2),'gray')\n",
    "ax[1].set_title(\"Twice eroded image\")\n",
    "ax[1].axis('off')\n",
    "ax[2].imshow(cv2.erode(ertka, np.ones((3,3)), iterations=3),'gray')\n",
    "ax[2].set_title(\"Thrice eroded image\")\n",
    "ax[2].axis('off')\n",
    "\n",
    "plt.show()"
   ]
  },
  {
   "cell_type": "code",
   "execution_count": null,
   "metadata": {},
   "outputs": [],
   "source": [
    "#6\n",
    "buzka = cv2.imread('buzka.bmp', cv2.IMREAD_GRAYSCALE)\n",
    "struct_el_1 = np.array([[1,0,0],[0,1,0],[0,0,1]]).astype('uint8')\n",
    "struct_el_2 = np.array([[0,0,1],[0,1,0],[1,0,0]]).astype('uint8')\n",
    "\n",
    "\n",
    "fig, ax = plt.subplots(1, 3)\n",
    "fig.set_size_inches(15, 10)\n",
    "ax[0].imshow(buzka,'gray')\n",
    "ax[0].set_title(\"Original image\")\n",
    "ax[0].axis('off')\n",
    "ax[1].imshow(cv2.erode(buzka, struct_el_1, iterations=1),'gray')\n",
    "ax[1].set_title(\"Right parted hair eroded\")\n",
    "ax[1].axis('off')\n",
    "ax[2].imshow(cv2.erode(buzka, struct_el_2, iterations=1),'gray')\n",
    "ax[2].set_title(\"Left parted hair eroded\")\n",
    "ax[2].axis('off')\n",
    "plt.show()"
   ]
  },
  {
   "cell_type": "code",
   "execution_count": null,
   "metadata": {},
   "outputs": [],
   "source": [
    "#8\n",
    "struct_el = np.ones((3,3))\n",
    "dilated_ertka = cv2.dilate(ertka, struct_el)\n",
    "\n",
    "fig, ax = plt.subplots(1, 2)\n",
    "fig.set_size_inches(12,10)\n",
    "ax[0].imshow(ertka,'gray')\n",
    "ax[0].set_title(\"Original image\")\n",
    "ax[0].axis('off')\n",
    "ax[1].imshow(dilated_ertka,'gray')\n",
    "ax[1].set_title(\"Dilated image\")\n",
    "ax[1].axis('off')\n",
    "plt.show()"
   ]
  },
  {
   "cell_type": "code",
   "execution_count": null,
   "metadata": {},
   "outputs": [],
   "source": [
    "#9\n",
    "def show_operations(img):\n",
    "    ertka = img\n",
    "    eroded_ertka = cv2.erode(ertka, np.ones((3,3)))\n",
    "    dilated_ertka = cv2.dilate(ertka, np.ones((3,3)))\n",
    "    open_ertka = cv2.dilate(eroded_ertka, np.ones((3,3)))\n",
    "    close_ertka = cv2.erode(dilated_ertka, np.ones((3,3)))\n",
    "    fig, ax = plt.subplots(1,5)\n",
    "    fig.set_size_inches(20,10)\n",
    "    ax[0].imshow(ertka,'gray')\n",
    "    ax[0].set_title(\"Original image\")\n",
    "    ax[0].axis('off')\n",
    "    ax[1].imshow(eroded_ertka,'gray')\n",
    "    ax[1].set_title(\"Eroded image\")\n",
    "    ax[1].axis('off')\n",
    "    ax[2].imshow(dilated_ertka,'gray')\n",
    "    ax[2].set_title(\"Dilated image\")\n",
    "    ax[2].axis('off')\n",
    "    ax[3].imshow(open_ertka,'gray')\n",
    "    ax[3].set_title(\"Opened image\")\n",
    "    ax[3].axis('off')\n",
    "    ax[4].imshow(close_ertka,'gray')\n",
    "    ax[4].set_title(\"Closed image\")\n",
    "    ax[4].axis('off')\n",
    "    plt.show()\n",
    "    \n",
    "show_operations(ertka)"
   ]
  },
  {
   "cell_type": "code",
   "execution_count": null,
   "metadata": {},
   "outputs": [],
   "source": [
    "#10\n",
    "wyspa = cv2.imread('wyspa.bmp', cv2.IMREAD_GRAYSCALE)\n",
    "show_operations(wyspa)"
   ]
  },
  {
   "cell_type": "code",
   "execution_count": null,
   "metadata": {},
   "outputs": [],
   "source": [
    "kolka = cv2.imread('kolka.bmp', cv2.IMREAD_GRAYSCALE)\n",
    "show_operations(kolka)"
   ]
  },
  {
   "cell_type": "code",
   "execution_count": null,
   "metadata": {},
   "outputs": [],
   "source": [
    "#11 Minizadanko\n",
    "opened = cv2.morphologyEx(ertka, cv2.MORPH_OPEN, np.ones((3,3)))\n",
    "clean_ertka = cv2.dilate(opened, np.ones((3,3)))\n",
    "fig, ax = plt.subplots()\n",
    "ax.imshow(clean_ertka, 'gray')\n",
    "ax.axis('off')\n",
    "plt.show()"
   ]
  },
  {
   "cell_type": "code",
   "execution_count": null,
   "metadata": {},
   "outputs": [],
   "source": [
    "#12 i 13\n",
    "hom = cv2.imread(\"hom.bmp\", cv2.IMREAD_GRAYSCALE)\n",
    "struct_el = np.array([[0,1,0],[1,1,1],[0,1,0]], dtype=np.uint8)\n",
    "hit_or_miss = cv2.morphologyEx(hom, cv2.MORPH_HITMISS, struct_el)\n",
    "\n",
    "fig, ax = plt.subplots(1,2)\n",
    "fig.set_size_inches(12,10)\n",
    "ax[0].imshow(hom, 'gray')\n",
    "ax[0].set_title(\"Original image\")\n",
    "ax[0].axis('off')\n",
    "ax[1].imshow(hit_or_miss, 'gray')\n",
    "ax[1].set_title(\"Transformed image\")\n",
    "ax[1].axis('off')\n",
    "plt.show()"
   ]
  },
  {
   "cell_type": "markdown",
   "metadata": {
    "id": "EZ7rITqb4iwP"
   },
   "source": [
    "## Inne operacje morfologiczne\n",
    "Do innych operacji morfologicznych należą między innymi ścienianie (ang. _thinning_), szkieletyzacja (ang. _skeletonization_), rekonstrukcja morfologiczna (ang. _morphological reconstruction_), czyszczenie brzegu (ang. _clearing border_) i uzupełnianie dziur (ang. _filling holes_). W tym rozdziale zostanie zaprezentowana rekonstrukcja morfologiczna.\n",
    "\n",
    "Rekonstrukcja morfologiczna jest operacją trójargumentową. Wymaga podania markera (obrazu, od którego zacznie się transformacja), maski (ograniczenia transformacji) oraz elementu strukturalnego. Operacja polega na wykonywaniu kroków (dopóki w dwóch kolejnych iteracjach nic się nie zmieni):\n",
    "- dylatacja obrazu markera (z danym elementem strukturalnym),\n",
    "- nowy marker = część wspólna dylatacji starego markera i maski.\n",
    "\n",
    "Trzy operacje, które wykorzystują schemat rekonstrukcji to: \n",
    "- otwarcie poprzez rekonstrukcję,\n",
    "- wypełnianie dziur,\n",
    "- czyszczenie brzegu.\n",
    "\n",
    "### Otwarcie poprzez rekonstrukcję:\n",
    "- Wczytaj obraz *text.bmp*, wyświetl go.\n",
    "- Załóżmy, że chcemy wykryć na obrazie litery, które zawierają długie pionowe fragmenty. W pierwszym podejściu stosujemy morfologiczne otwarcie z maską pionową o wysokości 51 pikseli (taka jest średnia wysokość liter na obrazie – `np.ones((51,1))`. Sprawdź rezultat takiej operacji.\n",
    "- Detekcja wprawdzie sie udała, ale otrzymujemy tylko pionowe kreski.\n",
    "- Rozwiązaniem jest rekonstrukcja – jako marker wybieramy obraz oryginalny poddany erozji. Maskę stanowi obraz oryginalny. Samodzielnie dobierz element strukturalny.\n",
    "- Zaimplementuj rekonstrukcję i porównaj efekt otwarcia i rekonstrukcji.\n"
   ]
  },
  {
   "cell_type": "code",
   "execution_count": null,
   "metadata": {
    "id": "smxTLZVr4iwQ"
   },
   "outputs": [],
   "source": [
    "text = cv2.imread('text.bmp')\n",
    "eroded_text = cv2.erode(text, np.ones((51,1)))\n",
    "opened_text = cv2.dilate(eroded_text, np.ones((51,1)))\n",
    "\n",
    "fig, ax = plt.subplots(1, 2)\n",
    "fig.set_size_inches(15, 10)\n",
    "ax[0].imshow(text)\n",
    "ax[0].set_title('Original image')\n",
    "ax[0].axis('off')\n",
    "ax[1].imshow(opened_text)\n",
    "ax[1].set_title('Opened image')\n",
    "ax[1].axis('off')\n",
    "plt.show()"
   ]
  },
  {
   "cell_type": "code",
   "execution_count": null,
   "metadata": {},
   "outputs": [],
   "source": [
    "#rekonstrukcja\n",
    "def intersection(img1, img2):\n",
    "    result = np.zeros(img1.shape)\n",
    "    for i in range(img1.shape[0]):\n",
    "        for j in range(img1.shape[1]):\n",
    "            if img1[i,j] > 0 and img1[i,j] == img2[i,j]:\n",
    "                result[i,j] = 255\n",
    "    return result\n",
    "\n",
    "\n",
    "def reconstruction(marker, mask, struct_el):\n",
    "    while True:\n",
    "        dilated_img = cv2.dilate(marker, struct_el)\n",
    "        new_marker = intersection(dilated_img, mask)\n",
    "        if (new_marker == marker).all():\n",
    "            return new_marker\n",
    "        marker = new_marker\n",
    "        \n",
    "\n",
    "text = cv2.imread('text.bmp', cv2.IMREAD_GRAYSCALE)\n",
    "reconstructed_image = reconstruction(cv2.erode(text, np.ones((51,1))), text, np.ones((51,6)))\n",
    "\n",
    "fig, ax = plt.subplots(1, 2)\n",
    "fig.set_size_inches(15, 10)\n",
    "ax[0].imshow(text, 'gray')\n",
    "ax[0].set_title('Original image')\n",
    "ax[0].axis('off')\n",
    "ax[1].imshow(reconstructed_image, 'gray')\n",
    "ax[1].set_title('Reconstructed image')\n",
    "ax[1].axis('off')\n",
    "plt.show()"
   ]
  },
  {
   "cell_type": "markdown",
   "metadata": {
    "id": "2sDDUw7I4iwQ"
   },
   "source": [
    "## Operacje morfologiczne dla obrazów w skali szarości\n",
    "\n",
    "Wszystkie dotychczasowe operacje (oprócz transformacji trafi, nie trafi) mają swoje odpowiedniki dla obrazów w skali szarości. Konieczne jest tylko podanie definicji erozji i dylatacji w nieco innej formie:\n",
    "- Erozja – filtr minimalny.\n",
    "- Dylatacja – filtr maksymalny.\n",
    "\n",
    "\n",
    "1. Wczytaj obraz *ferrari.bmp* i wykonaj operacje morfologiczne: erozję i dylatację. Element strukturalny ustal na kwadrat 3×3. Oblicz też różnicę pomiędzy obrazem po dylatacji a po erozji – czyli tzw. gradient morfologiczny. Rezultaty wyświetl na wspólnym wykresie.\n",
    "2. Otwarcie to tłumienie jasnych detali na obrazie. Zamkniecie to tłumienie ciemnych detali na obrazie. Potwierdź powyższe stwierdzenia wykonując obie operacje na obrazie _ferrari_.\n",
    "3. Wykonaj operacje *top-hat* i *bottom-hat* `cv2.morphologyEx(img, cv2.MORPH_TOPHAT, strel)` oraz `cv2.morphologyEx(img, cv2.MORPH_BLACKHAT, strel)` na obrazie _ferrari_. Jakie obszary udało sie wykryć za pomocą tej operacji? Z jakich operacji składa sie filtr *top-hat*?\n",
    "4. Wczytaj obraz *rice.png* (z laboratorium o binaryzacji). Wyświetl go. Zwróć uwagę na niejednorodne oświetlenie. Wykonaj operacje *top-hat* z dużym elementem strukturalnym (np. koło o rozmiarze 10) na tym obrazie. Wynik wyświetl. Co stało się z niejednorodnością oświetlenia?"
   ]
  },
  {
   "cell_type": "code",
   "execution_count": null,
   "metadata": {
    "id": "nNIJSxuX4iwR",
    "pycharm": {
     "name": "#%%\n"
    }
   },
   "outputs": [],
   "source": [
    "#1\n",
    "ferrari = cv2.imread('ferrari.bmp')\n",
    "struct_el = np.ones((3,3))\n",
    "eroded_ferrari = cv2.erode(ferrari, struct_el)\n",
    "dilated_ferrari = cv2.dilate(ferrari, struct_el)\n",
    "\n",
    "images = [ferrari, eroded_ferrari, dilated_ferrari]\n",
    "titles = [\"Original\", \"Eroded\", \"Dilated\"]\n",
    "\n",
    "fig, axs = plt.subplots(1, 3)\n",
    "for i, el in enumerate(images):\n",
    "    axs[i].imshow(images[i])\n",
    "    axs[i].axis(\"off\")\n",
    "    axs[i].set_title(titles[i])\n",
    "fig.set_size_inches(20, 20)\n",
    "plt.show()"
   ]
  },
  {
   "cell_type": "code",
   "execution_count": null,
   "metadata": {},
   "outputs": [],
   "source": [
    "eroded_gradient = ferrari - eroded_ferrari\n",
    "dilated_gradient = dilated_ferrari-ferrari\n",
    "\n",
    "images = [ferrari, eroded_gradient, dilated_gradient]\n",
    "titles = [\"Original\", \"Eroded gradient\", \"Dilated gradient\"]\n",
    "\n",
    "fig, axs = plt.subplots(1, 3)\n",
    "for i, el in enumerate(images):\n",
    "    axs[i].imshow(images[i])\n",
    "    axs[i].axis(\"off\")\n",
    "    axs[i].set_title(titles[i])\n",
    "fig.set_size_inches(20, 20)\n",
    "plt.show()"
   ]
  },
  {
   "cell_type": "code",
   "execution_count": null,
   "metadata": {},
   "outputs": [],
   "source": [
    "#2\n",
    "opened = cv2.morphologyEx(ferrari, cv2.MORPH_OPEN, np.ones((3,3)))\n",
    "closed = cv2.morphologyEx(ferrari, cv2.MORPH_CLOSE, np.ones((3,3)))\n",
    "\n",
    "images = [ferrari, opened, closed]\n",
    "titles = [\"Original\", \"Opened\", \"Closed\"]\n",
    "\n",
    "fig, axs = plt.subplots(1, 3)\n",
    "for i, el in enumerate(images):\n",
    "    axs[i].imshow(images[i])\n",
    "    axs[i].axis(\"off\")\n",
    "    axs[i].set_title(titles[i])\n",
    "fig.set_size_inches(20, 20)\n",
    "plt.show()"
   ]
  },
  {
   "cell_type": "code",
   "execution_count": null,
   "metadata": {},
   "outputs": [],
   "source": [
    "#3\n",
    "struct_el = np.ones((3,3))\n",
    "top_hat = cv2.morphologyEx(ferrari, cv2.MORPH_TOPHAT, struct_el)\n",
    "bottom_hat = cv2.morphologyEx(ferrari, cv2.MORPH_BLACKHAT, struct_el)\n",
    "\n",
    "images = [ferrari, top_hat, bottom_hat]\n",
    "titles = [\"Original\", \"Top hat\", \"Bottom hat\"]\n",
    "\n",
    "fig, axs = plt.subplots(1, 3)\n",
    "for i, el in enumerate(images):\n",
    "    axs[i].imshow(images[i])\n",
    "    axs[i].axis(\"off\")\n",
    "    axs[i].set_title(titles[i])\n",
    "fig.set_size_inches(20, 20)\n",
    "plt.show()"
   ]
  },
  {
   "cell_type": "code",
   "execution_count": null,
   "metadata": {},
   "outputs": [],
   "source": [
    "#4\n",
    "rice = cv2.imread(\"rice.png\")\n",
    "struct_el = np.ones((10,10))\n",
    "top_hat = cv2.morphologyEx(rice, cv2.MORPH_TOPHAT, struct_el)\n",
    "\n",
    "fig, axs = plt.subplots(1,2)\n",
    "axs[0].imshow(rice)\n",
    "axs[0].set_title(\"Original\")\n",
    "axs[0].axis(\"off\")\n",
    "axs[1].imshow(top_hat)\n",
    "axs[1].set_title(\"Top hat\")\n",
    "axs[1].axis(\"off\")\n",
    "fig.set_size_inches(12, 10)\n",
    "plt.show()"
   ]
  },
  {
   "cell_type": "markdown",
   "metadata": {
    "id": "lxAmoOnA4iwS"
   },
   "source": [
    "## Przykład zastosowania morfologii\n",
    "\n",
    "1. Wczytaj obraz *calculator.bmp*. Wyświetl go. Zadanie do realizacji: wyizolować tekst na klawiszach kalkulatora.\n",
    "2. W pierwszym kroku usunięte zostaną poziome odbicia znajdujące się na górnej krawędzi każdego z klawiszy. Wykorzystamy fakt, że odbicie jest dłuższe niż jakikolwiek pojedynczy znak. Wykonujemy otwarcie przez rekonstrukcję (można wykorzystać kod z wcześniejszego zadania, ale tym razem mamy do czynienia z obrazem w skali szarości zamiast z binarnym – proszę się zastanowić, jaka operacja jest odpowiednikiem operacji AND?):\n",
    "  - początkowo wykonujemy erozję z elementem strukturalnym w postaci poziomej linii — `np.ones((1,71))`,\n",
    "  - następnie dokonujemy rekonstrukcji: marker – obraz po erozji, maska – obraz oryginalny,\n",
    "  - wynik operacji wyświetl. Dla porównania wyświetl wynik klasycznego otwarcia z takim samym elementem strukturalnym. W czym otwarcie przez rekonstrukcję jest lepsze od klasycznego?\n",
    "3. W poprzednim kroku (tj. w wyniku otwarcia przez rekonstrukcję) uzyskaliśmy obraz tła. Należy go teraz odjąć od obrazu oryginalnego. Ten rodzaj operacji można nazwać *top-hat* poprzez rekonstrukcję. Wynik wyświetl. Dla porównania wyświetl wynik klasycznej operacji *top-hat* – różnicy miedzy obrazem oryginalnym a obrazem po klasycznym otwarciu.\n",
    "4. W podobny sposób należy zlikwidować odblaski pionowe:\n",
    "  - erozja z elementem strukturalnym w postaci poziomej linii – `np.ones((1,11))` – zostaną zachowane wszystkie znaki (bo prawie wszystkie są szersze). Uwaga. Operacje wykonujemy na uzyskanym w kroku 3 rezultacie odjęcia od obrazu oryginalnego, obrazu po rekonstrukcji.\n",
    "  - rekonstrukcja: marker – obraz po erozji, maska – obraz z punktu 3 (różnica oryginalnego i tła),\n",
    "  - wynik wyświetl.\n",
    "5. Rezultat jest niemal satysfakcjonujący, ale wystąpił problem z cienkimi pionowymi elementami napisów – np. I na klawiszu ASIN. Wykorzystując fakt, że usunięte znaki znajdują się w bezpośrednim sąsiedztwie istniejących znaków wykonujemy następujące operacje:\n",
    "  - dylatacja z elementem `np.ones((1,21))`,\n",
    "  - rekonstrukcja z markerem w postaci – minimum(obraz po dylatacji z punktu powyżej, obraz uzyskany w punkcie 3, tj. różnica oryginalnego i tła) oraz maską – obraz z pkt. 3.\n",
    "6. Rezultat wyświetl. Czy za pomocą zaproponowanych operacji udało się uzyskać zamierzony efekt – ekstrakcję napisów?\n"
   ]
  },
  {
   "cell_type": "code",
   "execution_count": null,
   "metadata": {},
   "outputs": [],
   "source": [
    "def grayscale_intersection(img1, img2):\n",
    "    return np.minimum(img1, img2)\n",
    "\n",
    "\n",
    "def grayscale_reconstruction(marker, mask, struct_el):\n",
    "    while True:\n",
    "        dilated_img = cv2.dilate(marker, struct_el)\n",
    "        new_marker = grayscale_intersection(dilated_img, mask)\n",
    "        if (new_marker == marker).all():\n",
    "            return new_marker\n",
    "        marker = new_marker"
   ]
  },
  {
   "cell_type": "code",
   "execution_count": null,
   "metadata": {
    "id": "5TwF7zt64iwS",
    "pycharm": {
     "name": "#%%\n"
    }
   },
   "outputs": [],
   "source": [
    "#1\n",
    "calculator = cv2.imread(\"calculator.bmp\", cv2.IMREAD_GRAYSCALE)\n",
    "\n",
    "#2\n",
    "eroded = cv2.erode(calculator, np.ones((1,71)))\n",
    "opened = cv2.dilate(eroded, np.ones((1,71)))\n",
    "reconstructed = grayscale_reconstruction(eroded, calculator, np.ones((3, 3)))"
   ]
  },
  {
   "cell_type": "code",
   "execution_count": null,
   "metadata": {},
   "outputs": [],
   "source": [
    "fig, axs = plt.subplots(1,3)\n",
    "fig.set_size_inches(20, 10)\n",
    "images = [calculator, opened, reconstructed]\n",
    "titles = [\"Original\", \"Opened\", \"Reconstructed\"]\n",
    "\n",
    "for i in range(len(titles)):\n",
    "    axs[i].imshow(images[i], 'gray')\n",
    "    axs[i].axis('off')\n",
    "    axs[i].set_title(titles[i])\n",
    "\n",
    "plt.show()"
   ]
  },
  {
   "cell_type": "code",
   "execution_count": null,
   "metadata": {},
   "outputs": [],
   "source": [
    "#3\n",
    "top_hat_rec = calculator - reconstructed\n",
    "top_hat = cv2.morphologyEx(calculator, cv2.MORPH_TOPHAT, np.ones((1,71)))\n",
    "\n",
    "images = [calculator, top_hat, top_hat_rec]\n",
    "titles = [\"Original\", \"Normal top hat\", \"Reconstructed top hat\"]\n",
    "fig, axs = plt.subplots(1,3)\n",
    "fig.set_size_inches(20, 10)\n",
    "for i in range(len(titles)):\n",
    "    axs[i].imshow(images[i], 'gray')\n",
    "    axs[i].axis('off')\n",
    "    axs[i].set_title(titles[i])\n",
    "\n",
    "plt.show()"
   ]
  },
  {
   "cell_type": "code",
   "execution_count": null,
   "metadata": {},
   "outputs": [],
   "source": [
    "#4\n",
    "\n",
    "reconstructed = grayscale_reconstruction(cv2.erode(top_hat_rec, np.ones((1, 11))), top_hat_rec, np.ones((3,3)))\n",
    "images = [calculator, reconstructed]\n",
    "titles = [\"Original\", \"Reconstructed\"]\n",
    "fig, axs = plt.subplots(1,2)\n",
    "fig.set_size_inches(15, 10)\n",
    "for i in range(len(titles)):\n",
    "    axs[i].imshow(images[i], 'gray')\n",
    "    axs[i].axis('off')\n",
    "    axs[i].set_title(titles[i])\n",
    "\n",
    "plt.show()"
   ]
  },
  {
   "cell_type": "code",
   "execution_count": null,
   "metadata": {},
   "outputs": [],
   "source": [
    "#5\n",
    "dilated = cv2.dilate(reconstructed, np.ones((1,21)))\n",
    "minimum = np.minimum(dilated, top_hat_rec)\n",
    "reconstructed_final = grayscale_reconstruction(minimum, top_hat_rec, np.ones((1,21)))\n",
    "\n",
    "fig, axs = plt.subplots(1,2)\n",
    "images = [calculator, reconstructed_final]\n",
    "titles = [\"Original\", \"Labels only\"]\n",
    "for i in range(len(images)):\n",
    "    axs[i].imshow(images[i], 'gray')\n",
    "    axs[i].axis('off')\n",
    "    axs[i].set_title(titles[i])\n",
    "fig.set_size_inches(15, 12)\n",
    "plt.show()"
   ]
  },
  {
   "cell_type": "code",
   "execution_count": null,
   "metadata": {},
   "outputs": [],
   "source": []
  }
 ],
 "metadata": {
  "celltoolbar": "Raw Cell Format",
  "colab": {
   "name": "08_morphology.ipynb",
   "provenance": []
  },
  "kernelspec": {
   "display_name": "Python 3 (ipykernel)",
   "language": "python",
   "name": "python3"
  },
  "language_info": {
   "codemirror_mode": {
    "name": "ipython",
    "version": 3
   },
   "file_extension": ".py",
   "mimetype": "text/x-python",
   "name": "python",
   "nbconvert_exporter": "python",
   "pygments_lexer": "ipython3",
   "version": "3.9.7"
  }
 },
 "nbformat": 4,
 "nbformat_minor": 1
}

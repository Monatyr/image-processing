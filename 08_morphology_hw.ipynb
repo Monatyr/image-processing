{
 "cells": [
  {
   "cell_type": "markdown",
   "metadata": {
    "id": "jM2G-589BE56"
   },
   "source": [
    "## Zadanie domowe: morfologiczna gra w życie – John Conway\n",
    "\n",
    "### Wykorzystanie operacji LUT w przekształceniu trafi, nie trafi\n",
    "  - Szybszą metodą wykonania transformacji trafi, nie trafi może być operacja LUT.\n",
    "  - Technika polega na zakodowaniu wyników wszystkich interesujących  konfiguracji, a następnie podczas przetwarzania wykorzystania operacji LUT.\n",
    "  - Dla otoczenia 3x3 możliwe jest 512 różnych konfiguracji.\n",
    "  - Aby praktycznie zrealizować operacje, każdej konfiguracji należy nadać unikalny indeks. Jedną z możliwości jest pomnożenie elementu strukturalnego przez macierz (mnożenie odpowiednich elementów):\n",
    "  ```\n",
    "  [[1, 8,  64],\n",
    "   [ 2, 16, 128],\n",
    "   [ 4, 32, 256]]\n",
    "  ```\n",
    "  Przykładowo elementowi:\n",
    "  ```\n",
    "  [[1, 1, 0],\n",
    "   [ 1, 0, 1],\n",
    "   [ 1, 0, 1]]\n",
    "  ```\n",
    "  odpowiada liczba: 1(1) + 2(1) + 4(1) + 8(1) + 128(1) + 256(1) = 399.\n",
    "  \n",
    "### Przykład działania metody – detekcja punktów końcowych na obrazie.\n",
    "  - założenie: punkt końcowy to punkt, który ma dokładnie jednego sąsiada,\n",
    "  - zdefiniuj funkcję, która jako argument pobiera otoczenie, a zwraca 0 lub 1 w zależności od tego, czy rozpatrywany punkt jest końcowy np. dla sąsiedztwa 3×3 punkt będzie końcowy, jeżeli jest zapalony i ma tylko jednego sąsiada (czyli suma pikseli jest równa 2).\n",
    "  - wygeneruj przekodowanie LUT.\n",
    "  - wczytaj obraz szkielet.bmp (należy go przekształcić, aby uzyskać dwuwymiarową tablicę o wartościach 0-1). Wykorzystując wygenerowane przekodowanie LUT wykonaj detekcję zakończeń. Wyświetl obraz oryginalny i po przekodowaniu LUT.\n"
   ]
  },
  {
   "cell_type": "markdown",
   "metadata": {
    "id": "kVoHb_4gDEah"
   },
   "source": []
  },
  {
   "cell_type": "code",
   "execution_count": 1,
   "metadata": {
    "id": "pcmAxnpJDENz"
   },
   "outputs": [],
   "source": [
    "import matplotlib.pyplot as plt\n",
    "import cv2\n",
    "import numpy as np\n",
    "import os\n",
    "from itertools import permutations\n",
    "\n",
    "\n",
    "def get_file(url_path, filename):\n",
    "    if not os.path.exists(filename):\n",
    "        url = url_path\n",
    "        r = requests.get(url, allow_redirects=True)\n",
    "        open(filename, 'wb').write(r.content)\n",
    "\n",
    "get_file('https://raw.githubusercontent.com/vision-agh/poc_sw/master/10_Morphology/szkielet.bmp', 'szkielet.bmp')\n",
    "\n",
    "\n",
    "base = np.array([\n",
    "    [1, 8,  64],\n",
    "    [2, 16, 128],\n",
    "    [4, 32, 256]\n",
    "])\n",
    "\n",
    "def multip(A,B):\n",
    "    assert A.shape == B.shape\n",
    "    total = 0\n",
    "    for i in range(A.shape[0]):\n",
    "        for j in range(A.shape[1]):\n",
    "            total += A[i][j]*B[i][j]\n",
    "    return total"
   ]
  },
  {
   "cell_type": "code",
   "execution_count": 2,
   "metadata": {},
   "outputs": [],
   "source": [
    "lut = {}\n",
    "nums = [[0,0,0],[1,0,0],[1,1,0],[1,1,1]]\n",
    "perms = []\n",
    "for num in nums:\n",
    "    for p in permutations(num):\n",
    "        perms.append(p)\n",
    "\n",
    "for p1 in perms:\n",
    "    for p2 in perms:\n",
    "        for p3 in perms:\n",
    "            curr = np.array([p1, p2, p3])\n",
    "            if curr[1][1] and np.sum(curr) == 2:\n",
    "                lut[multip(curr, base)] = 1\n",
    "            else:\n",
    "                lut[multip(curr, base)] = 0\n",
    "                \n",
    "def lookup(kernel):\n",
    "    return lut[multip(kernel, base)]"
   ]
  },
  {
   "cell_type": "code",
   "execution_count": 3,
   "metadata": {},
   "outputs": [],
   "source": [
    "szkielet = cv2.imread('szkielet.bmp')\n",
    "szkielet = cv2.cvtColor(szkielet, cv2.COLOR_BGR2GRAY)\n",
    "for i in range(szkielet.shape[0]):\n",
    "    for j in range(szkielet.shape[1]):\n",
    "        szkielet[i][j] = 1 if szkielet[i][j] else 0\n",
    "        \n",
    "\n",
    "def final_points(img):\n",
    "    result = np.zeros(img.shape)\n",
    "    for i in range(result.shape[0]):\n",
    "        for j in range(result.shape[1]):\n",
    "            if img[i][j]:\n",
    "                curr = np.array([[img[i-1][j-1], img[i-1][j], img[i-1][j+1]],\n",
    "                                 [img[i][j-1], img[i][j], img[i][j+1]],\n",
    "                                 [img[i+1][j-1], img[i+1][j], img[i+1][j+1]]])\n",
    "                result[i][j] = lookup(curr)\n",
    "    return result"
   ]
  },
  {
   "cell_type": "code",
   "execution_count": 4,
   "metadata": {
    "scrolled": false
   },
   "outputs": [
    {
     "data": {
      "image/png": "[encoded data removed]",
      "text/plain": [
       "<Figure size 720x720 with 2 Axes>"
      ]
     },
     "metadata": {
      "needs_background": "light"
     },
     "output_type": "display_data"
    }
   ],
   "source": [
    "result = final_points(szkielet)\n",
    "fig, axs = plt.subplots(1, 2)\n",
    "images = [szkielet, result]\n",
    "titles = [\"Original\", \"Final points\"]\n",
    "for i in range(len(images)):\n",
    "    axs[i].imshow(images[i], 'gray')\n",
    "    axs[i].axis('off')\n",
    "    axs[i].set_title(titles[i])\n",
    "fig.set_size_inches(10,10)\n",
    "plt.show()"
   ]
  },
  {
   "cell_type": "markdown",
   "metadata": {
    "id": "wrKG-020DGHW"
   },
   "source": [
    "### Gra w życie\n",
    "\n",
    "Reguły gry w życie:\n",
    "  - każdy piksel biały, który ma dwóch lub trzech sąsiadów (białych) przeżywa,\n",
    "  - każdy piksel biały, który ma 0,1 lub więcej niż trzech sąsiadów (białych) nie przeżywa (głód lub przeludnienie),\n",
    "  - jeżeli jakieś pole (czarne) sąsiaduje dokładnie z trzema pikselami białymi, to na tym polu ,,rodzi'' się nowy piksel biały.\n",
    "\n",
    "Zadanie:\n",
    "  - za pomocą mechanizmu LUT (opisanego wcześniej) należy zaimplementować morfologiczną gre w życie,\n",
    "  - najważniejszym elementem jest funkcja opisująca reguły gry,\n",
    "  - symulacje należny przeprowadzić dla plansz plansza1 oraz plansza2 (zob. komórka poniżej),\n",
    "  - dobrze jest wykonać kilka iteracji – zobaczyć jak zmienia się kształt,\n",
    "  - inne ciekawe kształty do znalezienia w internecie."
   ]
  },
  {
   "cell_type": "code",
   "execution_count": 5,
   "metadata": {
    "id": "yY7pW1PfCwj2"
   },
   "outputs": [],
   "source": [
    "import numpy as np\n",
    "\n",
    "plansza1 = np.array([\n",
    "    [0,\t0,\t0,\t0,\t0,\t0,\t0,\t0,\t0,\t0],\n",
    "    [0,\t0,\t0,\t0,\t0,\t0,\t0,\t0,\t0,\t0],\n",
    "    [0,\t0,\t0,\t1,\t0,\t0,\t1,\t0,\t0,\t0],\n",
    "    [0,\t0,\t0,\t1,\t1,\t1,\t1,\t0,\t0,\t0],\n",
    "    [0,\t0,\t1,\t0,\t0,\t0,\t0,\t1,\t0,\t0],\n",
    "    [0,\t0,\t1,\t0,\t1,\t1,\t0,\t1,\t0,\t0],\n",
    "    [0,\t0,\t1,\t0,\t0,\t0,\t0,\t1,\t0,\t0],\n",
    "    [0,\t0,\t0,\t1,\t1,\t1,\t1,\t0,\t0,\t0],\n",
    "    [0,\t0,\t0,\t0,\t0,\t0,\t0,\t0,\t0,\t0],\n",
    "    [0,\t0,\t0,\t0,\t0,\t0,\t0,\t0,\t0,\t0]], np.uint8)\n",
    "\n",
    "plansza2 = np.array([\n",
    "    [0,\t1,\t0,\t0,\t0,\t0,\t0,\t0,\t0,\t0,\t0,\t0,\t0,\t0,\t1,\t1],\n",
    "    [0,\t0,\t1,\t0,\t0,\t0,\t0,\t0,\t0,\t0,\t0,\t0,\t0,\t0,\t1,\t1],\n",
    "    [1,\t1,\t1,\t0,\t0,\t0,\t0,\t0,\t0,\t0,\t0,\t0,\t0,\t0,\t0,\t0],\n",
    "    [0,\t0,\t0,\t0,\t0,\t0,\t0,\t0,\t0,\t0,\t0,\t0,\t0,\t0,\t0,\t0],\n",
    "    [0,\t0,\t0,\t0,\t0,\t0,\t0,\t0,\t0,\t0,\t0,\t0,\t0,\t0,\t0,\t0],\n",
    "    [0,\t0,\t0,\t0,\t0,\t0,\t0,\t0,\t0,\t0,\t0,\t0,\t0,\t0,\t0,\t0],\n",
    "    [0,\t0,\t0,\t0,\t0,\t0,\t0,\t0,\t0,\t0,\t0,\t0,\t0,\t0,\t0,\t0],\n",
    "    [0,\t0,\t0,\t0,\t0,\t0,\t0,\t0,\t0,\t0,\t0,\t0,\t0,\t0,\t0,\t0],\n",
    "    [0,\t0,\t0,\t0,\t0,\t0,\t0,\t0,\t0,\t0,\t0,\t0,\t0,\t0,\t0,\t0],\n",
    "    [0,\t0,\t0,\t0,\t0,\t0,\t0,\t0,\t0,\t0,\t0,\t0,\t0,\t0,\t0,\t0],\n",
    "    [0,\t0,\t0,\t0,\t0,\t0,\t0,\t0,\t0,\t0,\t0,\t0,\t0,\t0,\t0,\t0],\n",
    "    [0,\t0,\t0,\t0,\t0,\t0,\t0,\t0,\t0,\t0,\t0,\t0,\t0,\t0,\t0,\t0],\n",
    "    [0,\t0,\t0,\t0,\t0,\t0,\t0,\t0,\t0,\t0,\t0,\t0,\t0,\t0,\t0,\t0]], np.uint8)\n",
    "\n",
    "base = np.array([\n",
    "    [1, 8,  64],\n",
    "    [2, 16, 128],\n",
    "    [4, 32, 256]\n",
    "])"
   ]
  },
  {
   "cell_type": "code",
   "execution_count": 6,
   "metadata": {},
   "outputs": [],
   "source": [
    "def multip(A,B):\n",
    "    assert A.shape == B.shape\n",
    "    total = 0\n",
    "    for i in range(A.shape[0]):\n",
    "        for j in range(A.shape[1]):\n",
    "            total += A[i][j]*B[i][j]\n",
    "    return total\n",
    "\n",
    "\n",
    "def in_bounds(pos, board):\n",
    "    y, x = pos\n",
    "    height, width = board.shape[0], board.shape[1]\n",
    "    return not(y < 0 or x < 0 or y >= height or x >= height)\n",
    "\n",
    "\n",
    "def count_neighbours(board):\n",
    "    neigh = 0\n",
    "    for i in range(-1, 2):\n",
    "        for j in range(-1, 2):\n",
    "            if i == 0 and j == 0: continue\n",
    "            if in_bounds((1+i, 1+j), board) and board[1+i][1+j]:\n",
    "                neigh += 1\n",
    "    return neigh\n",
    "\n",
    "\n",
    "def will_survive(board):\n",
    "    if not board[1][1]: return False\n",
    "    neigh = count_neighbours(board)\n",
    "    return neigh == 2 or neigh == 3\n",
    "\n",
    "\n",
    "def will_born(board):\n",
    "    if board[1][1]: return False\n",
    "    neigh = count_neighbours(board)\n",
    "    return neigh == 3"
   ]
  },
  {
   "cell_type": "code",
   "execution_count": 7,
   "metadata": {},
   "outputs": [],
   "source": [
    "def make_lut():\n",
    "    lut = {}\n",
    "    nums = [[0,0,0],[1,0,0],[1,1,0],[1,1,1]]\n",
    "    perms = []\n",
    "    for num in nums:\n",
    "        for p in permutations(num):\n",
    "            perms.append(p)\n",
    "\n",
    "    for p1 in perms:\n",
    "        for p2 in perms:\n",
    "            for p3 in perms:\n",
    "                curr = np.array([p1, p2, p3])\n",
    "                if curr[1][1]:\n",
    "                    lut[multip(curr, base)] = 1 if will_survive(curr) else 0\n",
    "                else:\n",
    "                    lut[multip(curr, base)] = 1 if will_born(curr) else 0\n",
    "    return lut\n",
    "\n",
    "\n",
    "lut = make_lut()\n",
    "\n",
    "\n",
    "def lookup(kernel):\n",
    "    return lut[multip(kernel, base)]"
   ]
  },
  {
   "cell_type": "code",
   "execution_count": 8,
   "metadata": {},
   "outputs": [],
   "source": [
    "def prepare_board(img):\n",
    "    vertical = np.zeros((1, img.shape[1]))\n",
    "    img = np.vstack((img, vertical))\n",
    "    img = np.vstack((vertical, img))\n",
    "    horizontal = np.zeros((img.shape[0], 1))\n",
    "    img = np.hstack((img, horizontal))\n",
    "    img = np.hstack((horizontal, img))\n",
    "    return img\n",
    "    \n",
    "\n",
    "def game_of_life(original_img):\n",
    "    img = prepare_board(original_img)\n",
    "    result = np.zeros(img.shape)\n",
    "    for i in range(1, img.shape[0]-1):\n",
    "        for j in range(1, img.shape[1]-1):\n",
    "            curr = np.array([[img[i-1][j-1], img[i-1][j], img[i-1][j+1]],\n",
    "                             [img[i][j-1], img[i][j], img[i][j+1]],\n",
    "                             [img[i+1][j-1], img[i+1][j], img[i+1][j+1]]])\n",
    "            result[i][j] = lookup(curr)\n",
    "    result = np.delete(result, 0, 0)\n",
    "    result = np.delete(result, 0, 1)\n",
    "    result = np.delete(result, result.shape[0]-1, 0)\n",
    "    result = np.delete(result, result.shape[1]-1, 1)\n",
    "    return result"
   ]
  },
  {
   "cell_type": "code",
   "execution_count": 19,
   "metadata": {},
   "outputs": [
    {
     "data": {
      "image/png": "[encoded data removed]",
      "text/plain": [
       "<Figure size 720x288 with 10 Axes>"
      ]
     },
     "metadata": {
      "needs_background": "light"
     },
     "output_type": "display_data"
    }
   ],
   "source": [
    "images = [plansza1]\n",
    "titles = [\"Original\"]\n",
    "\n",
    "for i in range(9):\n",
    "    result = game_of_life(images[-1])\n",
    "    images.append(result)\n",
    "    titles.append(f'{i+1} iteration(s)')\n",
    "\n",
    "fig, axs = plt.subplots(2, len(images)//2)\n",
    "for i in range(len(images)):\n",
    "    index = 0 if i < len(images)//2 else 1\n",
    "    axs[index][i%5].imshow(images[i], 'gray')\n",
    "    axs[index][i%5].axis('off')\n",
    "    axs[index][i%5].set_title(titles[i])\n",
    "fig.set_size_inches(10, 4)"
   ]
  },
  {
   "cell_type": "code",
   "execution_count": 20,
   "metadata": {},
   "outputs": [
    {
     "data": {
      "image/png": "[encoded data removed]",
      "text/plain": [
       "<Figure size 1440x504 with 10 Axes>"
      ]
     },
     "metadata": {
      "needs_background": "light"
     },
     "output_type": "display_data"
    }
   ],
   "source": [
    "images = [plansza2]\n",
    "titles = [\"Original\"]\n",
    "\n",
    "for i in range(9):\n",
    "    result = game_of_life(images[-1])\n",
    "    images.append(result)\n",
    "    titles.append(f'{i+1} iteration(s)')\n",
    "\n",
    "fig, axs = plt.subplots(2, len(images)//2)\n",
    "for i in range(len(images)):\n",
    "    index = 0 if i < len(images)//2 else 1\n",
    "    axs[index][i%5].imshow(images[i], 'gray')\n",
    "    axs[index][i%5].axis('off')\n",
    "    axs[index][i%5].set_title(titles[i])\n",
    "fig.set_size_inches(20, 7)"
   ]
  },
  {
   "cell_type": "code",
   "execution_count": 21,
   "metadata": {},
   "outputs": [
    {
     "data": {
      "image/png": "[encoded data removed]",
      "text/plain": [
       "<Figure size 720x3600 with 51 Axes>"
      ]
     },
     "metadata": {
      "needs_background": "light"
     },
     "output_type": "display_data"
    }
   ],
   "source": [
    "images = [plansza2]\n",
    "titles = [\"Original\"]\n",
    "\n",
    "for i in range(50):\n",
    "    result = game_of_life(images[-1])\n",
    "    images.append(result)\n",
    "    titles.append(f'{i+1} iteration(s)')\n",
    "    \n",
    "fig, axs = plt.subplots(len(images), 1)\n",
    "for i in range(len(images)):\n",
    "    axs[i].imshow(images[i], 'gray')\n",
    "    axs[i].axis('off')\n",
    "fig.set_size_inches(10, 50)"
   ]
  },
  {
   "cell_type": "code",
   "execution_count": null,
   "metadata": {},
   "outputs": [],
   "source": []
  }
 ],
 "metadata": {
  "celltoolbar": "Raw Cell Format",
  "colab": {
   "name": "08_morphology_hw.ipynb",
   "provenance": []
  },
  "kernelspec": {
   "display_name": "Python 3 (ipykernel)",
   "language": "python",
   "name": "python3"
  },
  "language_info": {
   "codemirror_mode": {
    "name": "ipython",
    "version": 3
   },
   "file_extension": ".py",
   "mimetype": "text/x-python",
   "name": "python",
   "nbconvert_exporter": "python",
   "pygments_lexer": "ipython3",
   "version": "3.9.7"
  }
 },
 "nbformat": 4,
 "nbformat_minor": 1
}

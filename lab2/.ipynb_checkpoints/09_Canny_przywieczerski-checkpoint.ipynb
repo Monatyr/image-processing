{
 "cells": [
  {
   "cell_type": "markdown",
   "metadata": {
    "id": "8tFqymC0KMtn",
    "pycharm": {
     "name": "#%% md\n"
    }
   },
   "source": [
    "# Detekcja krawędzi"
   ]
  },
  {
   "cell_type": "markdown",
   "metadata": {
    "id": "sWSeP91OKMtu",
    "pycharm": {
     "name": "#%% md\n"
    }
   },
   "source": [
    "## Cel ćwiczenia\n",
    "\n",
    "- Zapoznanie z metodami detekcji krawędzi:\n",
    "    - Sobel, Prewitt, Roberts - przypomnienie,\n",
    "    - Laplasjan z Gaussa (LoG – ang. Laplacian of Gaussian),\n",
    "    - Canny.\n",
    "\n",
    "Detekcja krawędzi przez wiele lat była podstawą algorytmów segmentacji.\n",
    "Krawędzie wykrywane są najczęściej z wykorzystaniem pierwszej (gradient) i drugiej (Laplasjan) pochodnej przestrzennej.\n",
    "Wykorzystanie obu metod zaprezentowane zostało w ćwiczeniu *Przetwarzanie wstępne. Filtracja kontekstowa*.\n",
    "\n",
    "W niniejszym ćwiczeniu poznane detektory krawędzi zostaną porównane z bardziej zaawansowanymi: Laplasjan z funkcji Gaussa (LoG), Zero Crossing i Canny."
   ]
  },
  {
   "cell_type": "markdown",
   "metadata": {
    "id": "MNaTD7V4KMtv",
    "pycharm": {
     "name": "#%% md\n"
    }
   },
   "source": [
    "## Laplasjan z Gaussa (LoG)\n",
    "\n",
    "Funkcja Gaussa:<br>\n",
    "\\begin{equation}\n",
    "h(r) = e^{\\frac{-r^2}{2 \\sigma^2}}\n",
    "\\end{equation}<br>\n",
    "gdzie:\n",
    "- $r^2 = x^2 + y^2$\n",
    "- $\\sigma$ to odchylenie standardowe.\n",
    "\n",
    "Działanie filtracji Gaussowskiej zostało przedstawione w ćwiczeniu \"Przetwarzanie wstępne\". W jej wyniku następuje rozmazanie obrazu.\n",
    "Laplasjan tej funkcji dany jest wzorem:\n",
    "\n",
    "\\begin{equation}\n",
    "\\nabla^2 h(r) = \\frac{r^2 - 2\\sigma^2}{\\sigma^4} e^{-\\frac{r^2}{2\\sigma^2}}\n",
    "\\end{equation}\n",
    "\n",
    "Funkcję (z oczywistych powodów) nazywamy Laplasjan z Gaussa (LoG).\n",
    "Ponieważ druga pochodna jest operacją liniową, konwolucja obrazu z $\\nabla^2 h(r)$ daje taki sam efekt jak zastosowanie filtracji Gaussa na obrazie, a następnie obliczenie Laplasjanu z wyniku.\n",
    "Lokalizacja krawędzi polega na znalezieniu miejsca, gdzie po filtracji LoG następuje zmiana znaku.\n",
    "\n",
    "1. Wczytaj obraz *house.png*.\n",
    "2. Wykonaj rozmycie Gaussowskie obrazu wejściowego.\n",
    "W tym celu wykorzysaj funkcję `cv2.GaussianBlur(img, kSize, sigma)`.\n",
    "Pierwszy argument jest obrazem wejśćiowym.\n",
    "Drugi jest rozmiarem filtru (podanym w nawiasach okrągłych, np. *(3, 3)*).\n",
    "Trzecim argumentem jest odchylenie standardowe. Wartość jest dobrana automatycznie, jeśli zosanie podana wartość `0` (będą równe rozmiarowi).\n",
    "3. Oblicz laplasjan obrazu rozmytego.\n",
    "W tym celu wykorzysaj funkcję `cv2.Laplacian(img, ddepth)`.\n",
    "Pierszym argumentem jest obraz wejściowy.\n",
    "Drugim argumentem jest typ danych wejściowych. Użyj `cv2.CV_32F`.\n",
    "4. Wyznacz miejsca zmiany znaku.\n",
    "Zaimplementuj funkcję `crossing(LoG, thr)`:\n",
    "    - Najpierw stwórz tablicę, do której zostanie zapisany wynik.\n",
    "    Jej rozmiar jest taki sam jak przetwarzanego obrazu.\n",
    "    - Następnie wykonaj pętle po obrazie (bez ramki jednopikselowej).\n",
    "    W każdej iteracji stwórz otoczenie o rozmiarze $3 \\times 3$.\n",
    "    Dla otoczenia oblicz wartość maksymalną i minimalną.\n",
    "    - Jeśli wartości te mają przeciwne znaki, to do danego miejsca tablicy przypisz wartość:\n",
    "        - jeśli piksel wejściowy > 0, to dodaj do niego wartość bezwzględną minimum.\n",
    "        - jeśli piksel wejściowy < 0, to do jego wartości bezwzględnej dodaj maksimum.\n",
    "    - Zmień zakres wykonanej tablicy do $<0, 255>$.\n",
    "    - Wykonaj progowanie tablicy. Próg jest argumentem wejściowym.\n",
    "    - Przeskaluj dane binarne do wartości `[0, 255]`.\n",
    "    - Wykonaj konwersję do typu *uint8*.\n",
    "    - Wykonaj rozmycie medianowe wyniku.\n",
    "    Wykorzystaj funkcję `cv2.medianBlur(img, kSize)`.\n",
    "    Pierwszym argumentem jest obraz wejśćiowy, a drugim rozmiar filtra.\n",
    "    - Zwróć wyznaczoną tablicę.\n",
    "5. Wyświetl obraz wynikowy.\n",
    "6. Dobierz parametry (rozmiar filtru Gaussa, odchylenie standardowe, próg binaryzacji) tak, by widoczne były kontury domu, ale nie dachówki."
   ]
  },
  {
   "cell_type": "code",
   "execution_count": null,
   "metadata": {
    "id": "gZ9jr6VGKMtx",
    "pycharm": {
     "name": "#%% Zadanie 1 - LoG\n"
    }
   },
   "outputs": [],
   "source": [
    "import cv2\n",
    "from matplotlib import pyplot as plt\n",
    "from scipy import ndimage\n",
    "import numpy as np\n",
    "import math\n",
    "import os\n",
    "import requests\n",
    "\n",
    "def get_file(url_path, filename):\n",
    "    if not os.path.exists(filename):\n",
    "        url = url_path\n",
    "        r = requests.get(url, allow_redirects=True)\n",
    "        open(filename, 'wb').write(r.content)\n",
    "\n",
    "get_file('https://raw.githubusercontent.com/vision-agh/poc_sw/master/09_Canny/dom.png', 'dom.png')"
   ]
  },
  {
   "cell_type": "code",
   "execution_count": null,
   "metadata": {},
   "outputs": [],
   "source": [
    "#1 \n",
    "house = cv2.imread('dom.png', cv2.IMREAD_GRAYSCALE)\n",
    "\n",
    "#2\n",
    "blurred = cv2.GaussianBlur(house, (3,3), 0)\n",
    "\n",
    "#3\n",
    "laplacian = cv2.Laplacian(blurred, cv2.CV_32F)\n",
    "\n",
    "fig, axs = plt.subplots(1,3)\n",
    "images = [house, blurred, laplacian]\n",
    "titles = [\"Original\", \"Blurred\", \"Laplacian\"]\n",
    "for i in range(len(images)):\n",
    "    axs[i].imshow(images[i], 'gray')\n",
    "    axs[i].axis('off')\n",
    "    axs[i].set_title(titles[i])\n",
    "fig.set_size_inches(12, 10)\n",
    "plt.show()"
   ]
  },
  {
   "cell_type": "code",
   "execution_count": null,
   "metadata": {},
   "outputs": [],
   "source": [
    "def get_laplacian(img, size, sigma):\n",
    "    blurred = cv2.GaussianBlur(img, (size, size), sigma)\n",
    "    return cv2.Laplacian(blurred, cv2.CV_32F)"
   ]
  },
  {
   "cell_type": "code",
   "execution_count": null,
   "metadata": {},
   "outputs": [],
   "source": [
    "#4\n",
    "def crossing(img, thr): #img == LoG\n",
    "    result = np.zeros(img.shape)\n",
    "    for i in range(1, img.shape[0]-1):\n",
    "        for j in range(1, img.shape[1]-1):\n",
    "            surr = img[i-1: i+2, j-1: j+2]\n",
    "            min_value, max_value = np.min(surr), np.max(surr)\n",
    "            if min_value*max_value < 0:\n",
    "                if img[i][j] > 0:\n",
    "                    result[i][j] = img[i][j] + abs(min_value)\n",
    "                else:\n",
    "                    result[i][j] = abs(img[i][j]) + max_value\n",
    "    result = (result*255/np.max(result)).astype(int)\n",
    "    result = np.where(result <= thr, 0, 255).astype('uint8')\n",
    "    result = cv2.medianBlur(result, 3)\n",
    "    return result"
   ]
  },
  {
   "cell_type": "code",
   "execution_count": null,
   "metadata": {},
   "outputs": [],
   "source": [
    "log = get_laplacian(house, 9, 0)\n",
    "contoured = crossing(log, 60)\n",
    "\n",
    "images = [house, contoured]\n",
    "titles = [\"Original\", \"Contours\"]\n",
    "fig, axs = plt.subplots(1, len(images))\n",
    "for i in range(len(images)):\n",
    "    axs[i].imshow(images[i], 'gray')\n",
    "    axs[i].axis('off')\n",
    "    axs[i].set_title(titles[i])\n",
    "fig.set_size_inches(12, 10)\n",
    "plt.show()"
   ]
  },
  {
   "cell_type": "markdown",
   "metadata": {
    "id": "gVqSVdPtKMtz",
    "pycharm": {
     "name": "#%% md\n"
    }
   },
   "source": [
    "## Algorytm Canny'ego\n",
    "\n",
    "> Algorytm Canny'ego to często wykorzystywana metoda detekcji krawędzi.\n",
    "> Zaproponowana została w 1986r. przez Johna F. Cannego.\n",
    "> Przy jego projektowaniu założono trzy cele:\n",
    "> - niska liczba błędów - algorytm powinien znajdywać wszystkie krawędzie oraz generować jak najmniej fałszywych detekcji,\n",
    "> - punkty krawędziowe powinny być poprawnie lokalizowane - wykryte punkty powinny być jak najbardziej zbliżone do rzeczywistych,\n",
    "> - krawędzie o szerokości 1 piksela - algorytm powinien zwrócić jeden punkt dla każdej rzeczywistej krawędzi.\n",
    "\n",
    "Zaimplementuj algorytm detekcji krawędziCanny'ego:\n",
    "1. W pierwszym kroku obraz przefiltruj dwuwymiarowym filtrem Gaussa.\n",
    "2. Następnie oblicz gradient pionowy i poziomy ($g_x $ i $g_y$).\n",
    "Jedną z metod jest filtracja Sobela.\n",
    "3. Dalej oblicz amplitudę:\n",
    "$M(x,y)  = \\sqrt{g_x^2+g_y^2}$ oraz kąt:\n",
    "$\\alpha(x,y) = arctan(\\frac{g_y}{g_x})$.\n",
    "Do obliczenia kąta wykorzystaj funkcję `np.arctan2(x1, x2)`.\n",
    "Wynik jest w radianach.\n",
    "4. W kolejnym etapie wykonaj kwantyzację kątów gradientu.\n",
    "Kąty od $-180^\\circ$ do $180^\\circ$ można podzielić na 8 przedziałów:\n",
    "[$-22.5^\\circ, 22.5^\\circ$], [$22.5^\\circ, 67.5^\\circ$],\n",
    "[$67.5^\\circ, 112.5^\\circ$], [$112.5^\\circ, 157.5^\\circ$],\n",
    "[$157.5^\\circ, -157.5^\\circ$], [$-157.5^\\circ, -112.5^\\circ$],\n",
    "[$-112.5^\\circ, -67.5^\\circ$], [$-67.5^\\circ, -22.5^\\circ$].\n",
    "Przy czym należy rozpatrywać tylko 4 kierunki:\n",
    "    - pionowy ($d_1$),\n",
    "    - poziomy ($d_2$),\n",
    "    - skośny lewy ($d_3$),\n",
    "    - skośny prawy ($d_4$).\n",
    "5. Dalej przeprowadź eliminację pikseli, które nie mają wartości maksymalnej (ang. *nonmaximal suppresion*).\n",
    "Celem tej operacji jest redukcja szerokości krawędzi do rozmiaru 1 piksela.\n",
    "Algorytm przebiega następująco.\n",
    "W rozpatrywanym otoczeniu o rozmiarze $3 \\times 3$:\n",
    "    - określ do którego przedziału należy kierunek gradientu piksela centralnego ($d_1, d_2, d_3, d_4$).\n",
    "    - przeanalizuje sąsiadów leżących na tym kierunku.\n",
    "Jeśli choć jeden z nich ma amplitudę większą niż piksel centralny, to należy uznać, że nie jest lokalnym maksimum i do wyniku przypisać $g_N(x,y) = 0$.\n",
    "W przeciwnym przypadku $g_N(x,y) = M(x,y)$.\n",
    "Przez $g_N$ rozumiemy obraz detekcji lokalnych maksimów.\n",
    "Zaimplementuj funkcję `nonmax`.\n",
    "Pierwszym argementem jest macierz kierunków (po kwantyzacji).\n",
    "Drugim argumentem jest macierz amplitudy.\n",
    "6. Ostatnią operacją jest binaryzacja obrazu $g_N$.\n",
    "Stosuje się tutaj tzw. binaryzację z histerezą.\n",
    "Wykorzystuje się w niej dwa progi: $T_L$ i $T_H$, przy czym $T_L < T_H$.\n",
    "Canny zaproponował, aby stosunek progu wyższego do niższego był jak 3 lub 2 do 1.\n",
    "Rezultaty binaryzacji można opisać jako:<br>\n",
    "$g_{NH}(x,y) = g_N(x,y) \\geq TH $<br>\n",
    "$g_{NL}(x,y) = TH > g_N(x,y) \\geq TL $<br>\n",
    "Można powiedzieć, że na obrazie $g_{NH}$ są \"pewne\" krawędzie.\n",
    "Natomiast na $g_{NL}$ \"potencjalne\".\n",
    "Często krawędzie \"pewne\" nie są ciągłe.\n",
    "Dlatego wykorzystuje się obraz $g_{NL}$ w następującej procedurze:\n",
    "    - Stwórz stos zawierający wszystkie piksele zaznaczone na obrazie $g_{NH}$.\n",
    "W tym celu wykorzystaj listę współrzędnych `[row, col]`.\n",
    "Do pobrania elementu z początku służy metoda `list.pop()`.\n",
    "Do dodania elementu na koniec listy służy metoda `list.append(new)`.\n",
    "    - Stwórz obraz, który będzie zawierał informację czy dany piksel został już odwiedzony.\n",
    "    - Stwórz obraz, któy zawierać będzie wynikowe krawędzie.\n",
    "Jej rozmiar jest równy rozmiarowi obrazu.\n",
    "    - Wykonaj pętlę, która będzie pobierać elementy z listy, dopóki ta nie będzie pusta.\n",
    "W tym celu najlepiej sprawdzi się pętla `while`.\n",
    "    - W każdej iteracji pobierz element ze stosu.\n",
    "    - Sprawdź czy dany element został już odwiedzony.\n",
    "    - Jeśli nie został, to:\n",
    "        - Oznacz go jako odwiedzony,\n",
    "        - Oznacz piksel jako krawędź w wyniku,\n",
    "        - Sprawdź otoczenie piksela w obrazie $g_{NL}$,\n",
    "        - Dodaj do stosu współrzędne otoczenia, które zawierają krawędź (potencjalną).\n",
    "        Można to wykoanać np. pętlą po stworzonym otoczeniu.\n",
    "7. Wyświetl obraz oryginalny, obraz $g_{NH}$ oraz obraz wynikowy.\n",
    "\n",
    "Pomocnicze obrazy $g_{NH}$ i $g_{NL}$ zostały wprowadzone dla uproszczenia opisu.\n",
    "Algorytm można zaimplementować wbardziej \"zwarty\" sposób.\n",
    "\n",
    "Na podstawie powyższego opisu zaimplementuj algorytm Cannego."
   ]
  },
  {
   "cell_type": "code",
   "execution_count": null,
   "metadata": {
    "id": "ZlKCg-f5KMt0",
    "pycharm": {
     "name": "#%% Zadanie 2 - Canny\n"
    }
   },
   "outputs": [],
   "source": [
    "def canny(img, filter_size, sigma, high_threshold, ratio):\n",
    "    #1\n",
    "    blurred = cv2.GaussianBlur(img, (filter_size, filter_size), sigma)\n",
    "    \n",
    "    #2\n",
    "    g_x = cv2.Sobel(blurred, cv2.CV_32F, 1, 0, ksize=3)\n",
    "    g_y = cv2.Sobel(blurred, cv2.CV_32F, 0, 1, ksize=3)\n",
    "    \n",
    "    M, angles = cv2.cartToPolar(g_x, g_y, angleInDegrees = True) \n",
    "    result = M.copy()\n",
    "    \n",
    "    for i in range(img.shape[0]):\n",
    "        for j in range(img.shape[1]):  \n",
    "            angle = angles[i][j]\n",
    "            \n",
    "            if angle <= 22.5 or 337.5 < angle or 157.5 < angle <= 157.5 + 45.0: #poziomy\n",
    "                n1, n2 = (i, j-1), (i, j+1)\n",
    "            elif 22.5 < angle <= 22.5 + 45 or 157.5 + 45.0 < angle <= 157.5 + 90.0: #skośny prawy\n",
    "                n1, n2 = (i-1, j-1), (i+1, j+1)\n",
    "            elif 22.5 + 45.0 < angle <= 22.5 + 90.0 or 157.5 + 90.0 < angle <= 157.5 + 135.0: #pion\n",
    "                n1, n2 = (i-1, j), (i+1, j)\n",
    "            else: #skośny lewy\n",
    "                n1, n2 = (i+1, j-1), (i-1, j+1)\n",
    "            \n",
    "            if 0 <= n1[0] < img.shape[0] and 0 <= n1[1] < img.shape[1]:\n",
    "                if M[i, j] < M[n1[0], n1[1]]:\n",
    "                    result[i,j] = 0\n",
    "            if 0 <= n2[0] < img.shape[0] and 0 <= n2[1] < img.shape[1]:\n",
    "                if M[i, j] < M[n2[0], n2[1]]:\n",
    "                    result[i,j] = 0\n",
    "                    \n",
    "    tH = high_threshold\n",
    "    tL = tH/ratio\n",
    "    \n",
    "    result_high = np.where(result >= tH, result, 0)\n",
    "    result_low = np.where((tL <= result) & (result < tH), 1, 0)\n",
    "        \n",
    "    visited = np.zeros(img.shape)\n",
    "    points = [(i, j) for i in range(img.shape[0]) for j in range(img.shape[1]) if result_high[i,j]]\n",
    "    edges = np.zeros_like(img)\n",
    "    \n",
    "    while points:\n",
    "        point = points.pop()\n",
    "        if visited[point[0], point[1]]:\n",
    "            continue\n",
    "        visited[point[0], point[1]] = 1\n",
    "        edges[point[0], point[1]] = 1\n",
    "        for i in range(-1, 2):\n",
    "            for j in range(-1, 2):\n",
    "                if i == 0 and j == 0: continue\n",
    "                if 0 <= point[0] + i < img.shape[0] and 0 <= point[1] + j < img.shape[1]:\n",
    "                    if result_low[point[0]+i, point[1]+j]:\n",
    "                        points.append((point[0]+i, point[1]+j))\n",
    "    return edges"
   ]
  },
  {
   "cell_type": "code",
   "execution_count": null,
   "metadata": {},
   "outputs": [],
   "source": [
    "my_canny = canny(house, 7, 0, 70, 2)\n",
    "\n",
    "images = [house, my_canny]\n",
    "titles = [\"Original\", \"My canny\"]\n",
    "fig, axs = plt.subplots(1,2)\n",
    "fig.set_size_inches(12, 10)\n",
    "for i in range(len(images)):\n",
    "    axs[i].imshow(images[i], 'gray')\n",
    "    axs[i].set_title(titles[i])\n",
    "    axs[i].axis('off')\n",
    "plt.show()"
   ]
  },
  {
   "cell_type": "markdown",
   "metadata": {
    "id": "2k7jtQKfKMt0",
    "pycharm": {
     "name": "#%% md\n"
    }
   },
   "source": [
    "## Algorytm Canny'ego - OpenCV\n",
    "\n",
    "1. Wykonaj dektekcję krawędzi metodą Canny'ego wykorzystując funkcję `cv2.Canny`.\n",
    "    - Pierwszym argumentem funkcji jest obraz wejściowy.\n",
    "    - Drugim argumentem jest mniejszy próg.\n",
    "    - Trzecim argumentem jest większy próg.\n",
    "    - Czwarty argument to tablica, do której wpisany zostanie wynik.\n",
    "    Można zwrócić go przez wartość i podać wartość `None`.\n",
    "    - Piąty argument to rozmiar operatora Sobela (w naszym przypadku 3).\n",
    "    - Szósty argument to rodzaj używanej normy.\n",
    "    0 oznacza normę $L_1$, 1 oznacza normę $L_2$. Użyj $L_2$.\n",
    "2. Wynik wyświetl i porównaj z własną implementacją."
   ]
  },
  {
   "cell_type": "code",
   "execution_count": null,
   "metadata": {
    "id": "0GvszyAmKMt1",
    "pycharm": {
     "name": "#%% Zadanie 3 - Canny opencv\n"
    }
   },
   "outputs": [],
   "source": [
    "lower_thr = 120\n",
    "higher_thr = lower_thr*2\n",
    "lib_canny = cv2.Canny(house, lower_thr, higher_thr, None, 3, 1)\n",
    "\n",
    "fig, axs = plt.subplots(1, 3)\n",
    "images = [house, my_canny, lib_canny]\n",
    "titles = [\"Original\", \"My canny\", \"Cv2.Canny\"]\n",
    "\n",
    "for i, el in enumerate(images):\n",
    "    axs[i].imshow(el, 'gray')\n",
    "    axs[i].axis('off')\n",
    "    axs[i].set_title(titles[i])\n",
    "\n",
    "fig.set_size_inches(20,10)\n",
    "plt.show()"
   ]
  },
  {
   "cell_type": "code",
   "execution_count": null,
   "metadata": {},
   "outputs": [],
   "source": []
  }
 ],
 "metadata": {
  "colab": {
   "name": "09_Canny.ipynb",
   "provenance": []
  },
  "kernelspec": {
   "display_name": "Python 3 (ipykernel)",
   "language": "python",
   "name": "python3"
  },
  "language_info": {
   "codemirror_mode": {
    "name": "ipython",
    "version": 3
   },
   "file_extension": ".py",
   "mimetype": "text/x-python",
   "name": "python",
   "nbconvert_exporter": "python",
   "pygments_lexer": "ipython3",
   "version": "3.9.7"
  }
 },
 "nbformat": 4,
 "nbformat_minor": 1
}
